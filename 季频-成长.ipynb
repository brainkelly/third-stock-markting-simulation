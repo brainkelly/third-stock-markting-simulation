{
 "cells": [
  {
   "cell_type": "code",
   "execution_count": 13,
   "id": "operating-recruitment",
   "metadata": {},
   "outputs": [
    {
     "name": "stdout",
     "output_type": "stream",
     "text": [
      "login success!\n",
      "      index       code tradeStatus code_name\n",
      "4028   4248  sz.300725           1      药石科技\n",
      "4029   4249  sz.300726           1      宏达电子\n",
      "4030   4250  sz.300727           1      润禾材料\n",
      "4031   4251  sz.300729           1      乐歌股份\n",
      "4032   4252  sz.300730           1      科创信息\n",
      "...     ...        ...         ...       ...\n",
      "4247   4467  sz.300965           1      恒宇信通\n",
      "4248   4468  sz.300966           1      共同药业\n",
      "4249   4469  sz.300969           1      恒帅股份\n",
      "4250   4470  sz.300970           1      华绿生物\n",
      "4251   4471  sz.300999           1       金龙鱼\n",
      "\n",
      "[224 rows x 4 columns]\n",
      "logout failed!\n"
     ]
    }
   ],
   "source": [
    "import baostock as bs\n",
    "import pandas as pd\n",
    "import os\n",
    "from pathlib import Path\n",
    "\n",
    "OUTPUT = './'\n",
    "\n",
    "\n",
    "def mkdir(directory):\n",
    "    if not os.path.exists(directory):\n",
    "        os.makedirs(directory)\n",
    "\n",
    "\n",
    "class Downloader(object):\n",
    "    def __init__(self,\n",
    "                 output_dir,year,quarter):\n",
    "        self._bs = bs\n",
    "        bs.login()\n",
    "        date = '2021-04-12'\n",
    "        # self.date_end = datetime.datetime.now().strftime(\"%Y-%m-%d\")\n",
    "        self.output_dir = output_dir\n",
    "        self.date=date\n",
    "        \n",
    "\n",
    "    def exit(self):\n",
    "        bs.logout()\n",
    "\n",
    "    def get_codes_by_date(self, date):\n",
    "        date = '2021-04-12'\n",
    "        stock_rs = bs.query_all_stock(date)\n",
    "        stock_df = stock_rs.get_data()\n",
    "        stock_df = stock_df[stock_df.code>='sh.600000']\n",
    "        stock_df = stock_df[stock_df.code<='sz.399000']\n",
    "        stock_df = stock_df.reset_index()\n",
    "        stock_df = stock_df[4028:]\n",
    "        print(stock_df)\n",
    "        return stock_df\n",
    "\n",
    "\n",
    "    def run(self):\n",
    "        stock_df = self.get_codes_by_date(self.date)\n",
    "        for index, row in stock_df.iterrows():\n",
    "            print(f'processing {row[\"code\"]}')\n",
    "            df_code = bs.query_growth_data(row[\"code\"], year=1990, quarter=1).get_data()\n",
    "            df_code.to_csv(f'{self.output_dir}/{row[\"code\"]}.csv', index=False)\n",
    "        self.exit()\n",
    "    \n",
    "    def updater(self,year,quarter):\n",
    "        stock_df = self.get_codes_by_date(self.date)\n",
    "        for index,row in stock_df.iterrows():\n",
    "            for i in year:\n",
    "                for n in quarter:\n",
    "                    dstdir = f'{self.output_dir}/{row[\"code\"]}.csv'\n",
    "                    if not Path(dstdir).exists():\n",
    "                        df_code = bs.query_growth_data(row[\"code\"], year=i, quarter=n).get_data()\n",
    "                        if len(df_code)==0:\n",
    "                            continue\n",
    "                        else:\n",
    "                            df_code.to_csv(f'{self.output_dir}/{row[\"code\"]}.csv', index=False)\n",
    "                        continue\n",
    "                    base_code = pd.read_csv(dstdir)\n",
    "                    update_code = bs.query_growth_data(row[\"code\"], year=i,quarter=n).get_data()\n",
    "                    df_code = pd.concat([base_code,update_code],axis=0,ignore_index = True)\n",
    "                    df_code.to_csv(dstdir, index=False)\n",
    "        self.exit()\n",
    "        \n",
    "if __name__ == '__main__':\n",
    "    year = [2007,2008,2009,2010,2011,2012,2013,2014,2015,2016,2017,2018,2019,2020,2021]\n",
    "    quarter = [1,2,3,4]\n",
    "    down = Downloader('./', year = year,quarter=quarter)\n",
    "    down.updater(year=year,quarter=quarter)\n",
    "\n"
   ]
  },
  {
   "cell_type": "code",
   "execution_count": 6,
   "id": "metropolitan-outdoors",
   "metadata": {},
   "outputs": [
    {
     "name": "stdout",
     "output_type": "stream",
     "text": [
      "login success!\n"
     ]
    },
    {
     "data": {
      "text/html": [
       "<div>\n",
       "<style scoped>\n",
       "    .dataframe tbody tr th:only-of-type {\n",
       "        vertical-align: middle;\n",
       "    }\n",
       "\n",
       "    .dataframe tbody tr th {\n",
       "        vertical-align: top;\n",
       "    }\n",
       "\n",
       "    .dataframe thead th {\n",
       "        text-align: right;\n",
       "    }\n",
       "</style>\n",
       "<table border=\"1\" class=\"dataframe\">\n",
       "  <thead>\n",
       "    <tr style=\"text-align: right;\">\n",
       "      <th></th>\n",
       "      <th>code</th>\n",
       "      <th>pubDate</th>\n",
       "      <th>statDate</th>\n",
       "      <th>YOYEquity</th>\n",
       "      <th>YOYAsset</th>\n",
       "      <th>YOYNI</th>\n",
       "      <th>YOYEPSBasic</th>\n",
       "      <th>YOYPNI</th>\n",
       "    </tr>\n",
       "  </thead>\n",
       "  <tbody>\n",
       "    <tr>\n",
       "      <th>0</th>\n",
       "      <td>sz.000001</td>\n",
       "      <td>2007-08-16</td>\n",
       "      <td>2007-06-30</td>\n",
       "      <td>0.376685</td>\n",
       "      <td>0.293349</td>\n",
       "      <td>1.170455</td>\n",
       "      <td>1.160000</td>\n",
       "      <td>1.170455</td>\n",
       "    </tr>\n",
       "  </tbody>\n",
       "</table>\n",
       "</div>"
      ],
      "text/plain": [
       "        code     pubDate    statDate YOYEquity  YOYAsset     YOYNI  \\\n",
       "0  sz.000001  2007-08-16  2007-06-30  0.376685  0.293349  1.170455   \n",
       "\n",
       "  YOYEPSBasic    YOYPNI  \n",
       "0    1.160000  1.170455  "
      ]
     },
     "execution_count": 6,
     "metadata": {},
     "output_type": "execute_result"
    }
   ],
   "source": [
    "import baostock as bs\n",
    "bs.login()\n",
    "rs_growth = bs.query_growth_data(code=\"sz.000001\", year=2007, quarter=2).get_data()\n",
    "rs_growth\n"
   ]
  },
  {
   "cell_type": "code",
   "execution_count": 12,
   "id": "experimental-protest",
   "metadata": {},
   "outputs": [
    {
     "name": "stdout",
     "output_type": "stream",
     "text": [
      "login success!\n",
      "      index       code tradeStatus code_name\n",
      "3970   4190  sz.300665           1      飞鹿股份\n",
      "3971   4191  sz.300666           1      江丰电子\n",
      "3972   4192  sz.300667           1      必创科技\n",
      "3973   4193  sz.300668           1      杰恩设计\n",
      "3974   4194  sz.300669           1      沪宁股份\n",
      "...     ...        ...         ...       ...\n",
      "4247   4467  sz.300965           1      恒宇信通\n",
      "4248   4468  sz.300966           1      共同药业\n",
      "4249   4469  sz.300969           1      恒帅股份\n",
      "4250   4470  sz.300970           1      华绿生物\n",
      "4251   4471  sz.300999           1       金龙鱼\n",
      "\n",
      "[282 rows x 4 columns]\n"
     ]
    },
    {
     "data": {
      "text/html": [
       "<div>\n",
       "<style scoped>\n",
       "    .dataframe tbody tr th:only-of-type {\n",
       "        vertical-align: middle;\n",
       "    }\n",
       "\n",
       "    .dataframe tbody tr th {\n",
       "        vertical-align: top;\n",
       "    }\n",
       "\n",
       "    .dataframe thead th {\n",
       "        text-align: right;\n",
       "    }\n",
       "</style>\n",
       "<table border=\"1\" class=\"dataframe\">\n",
       "  <thead>\n",
       "    <tr style=\"text-align: right;\">\n",
       "      <th></th>\n",
       "      <th>index</th>\n",
       "      <th>code</th>\n",
       "      <th>tradeStatus</th>\n",
       "      <th>code_name</th>\n",
       "    </tr>\n",
       "  </thead>\n",
       "  <tbody>\n",
       "    <tr>\n",
       "      <th>4027</th>\n",
       "      <td>4247</td>\n",
       "      <td>sz.300724</td>\n",
       "      <td>1</td>\n",
       "      <td>捷佳伟创</td>\n",
       "    </tr>\n",
       "  </tbody>\n",
       "</table>\n",
       "</div>"
      ],
      "text/plain": [
       "      index       code tradeStatus code_name\n",
       "4027   4247  sz.300724           1      捷佳伟创"
      ]
     },
     "execution_count": 12,
     "metadata": {},
     "output_type": "execute_result"
    }
   ],
   "source": [
    "import baostock as bs\n",
    "bs.login()\n",
    "b = down.get_codes_by_date('2021-04-12')\n",
    "b[b.code == 'sz.300724']"
   ]
  },
  {
   "cell_type": "code",
   "execution_count": null,
   "id": "allied-puzzle",
   "metadata": {},
   "outputs": [],
   "source": []
  }
 ],
 "metadata": {
  "kernelspec": {
   "display_name": "Python 3",
   "language": "python",
   "name": "python3"
  },
  "language_info": {
   "codemirror_mode": {
    "name": "ipython",
    "version": 3
   },
   "file_extension": ".py",
   "mimetype": "text/x-python",
   "name": "python",
   "nbconvert_exporter": "python",
   "pygments_lexer": "ipython3",
   "version": "3.8.8"
  }
 },
 "nbformat": 4,
 "nbformat_minor": 5
}
