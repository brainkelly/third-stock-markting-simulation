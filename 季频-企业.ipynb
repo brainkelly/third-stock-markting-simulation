{
 "cells": [
  {
   "cell_type": "code",
   "execution_count": 80,
   "id": "operating-recruitment",
   "metadata": {},
   "outputs": [
    {
     "name": "stdout",
     "output_type": "stream",
     "text": [
      "login success!\n",
      "      index       code tradeStatus code_name\n",
      "0       220  sh.600000           1      浦发银行\n",
      "1       221  sh.600004           1      白云机场\n",
      "2       222  sh.600006           1      东风汽车\n",
      "3       223  sh.600007           1      中国国贸\n",
      "4       224  sh.600008           1      首创股份\n",
      "...     ...        ...         ...       ...\n",
      "4247   4467  sz.300965           1      恒宇信通\n",
      "4248   4468  sz.300966           1      共同药业\n",
      "4249   4469  sz.300969           1      恒帅股份\n",
      "4250   4470  sz.300970           1      华绿生物\n",
      "4251   4471  sz.300999           1       金龙鱼\n",
      "\n",
      "[4252 rows x 4 columns]\n",
      "logout success!\n"
     ]
    }
   ],
   "source": [
    "import baostock as bs\n",
    "import pandas as pd\n",
    "import os\n",
    "from pathlib import Path\n",
    "\n",
    "OUTPUT = './'\n",
    "\n",
    "\n",
    "def mkdir(directory):\n",
    "    if not os.path.exists(directory):\n",
    "        os.makedirs(directory)\n",
    "\n",
    "\n",
    "class Downloader(object):\n",
    "    def __init__(self,\n",
    "                 output_dir,year,quarter):\n",
    "        self._bs = bs\n",
    "        bs.login()\n",
    "        date = '2021-04-12'\n",
    "        # self.date_end = datetime.datetime.now().strftime(\"%Y-%m-%d\")\n",
    "        self.output_dir = output_dir\n",
    "        self.date=date\n",
    "        \n",
    "\n",
    "    def exit(self):\n",
    "        bs.logout()\n",
    "\n",
    "    def get_codes_by_date(self, date):\n",
    "        date = '2021-04-12'\n",
    "        stock_rs = bs.query_all_stock(date)\n",
    "        stock_df = stock_rs.get_data()\n",
    "        stock_df = stock_df[stock_df.code>='sh.600000']\n",
    "        stock_df = stock_df[stock_df.code<='sz.399000']\n",
    "        stock_df = stock_df.reset_index()\n",
    "        #stock_df = stock_df[0:2]\n",
    "        print(stock_df)\n",
    "        return stock_df\n",
    "\n",
    "\n",
    "    def run(self):\n",
    "        stock_df = self.get_codes_by_date(self.date)\n",
    "        for index, row in stock_df.iterrows():\n",
    "            print(f'processing {row[\"code\"]}')\n",
    "            df_code = bs.query_profit_data(row[\"code\"], year=1990, quarter=1).get_data()\n",
    "            df_code.to_csv(f'{self.output_dir}/{row[\"code\"]}.csv', index=False)\n",
    "        self.exit()\n",
    "    \n",
    "    def updater(self,year,quarter):\n",
    "        stock_df = self.get_codes_by_date(self.date)\n",
    "        for index,row in stock_df.iterrows():\n",
    "            for i in year:\n",
    "                for n in quarter:\n",
    "                    dstdir = f'{self.output_dir}/{row[\"code\"]}.csv'\n",
    "                    if not Path(dstdir).exists():\n",
    "                        df_code = bs.query_profit_data(row[\"code\"], year=i, quarter=n).get_data()\n",
    "                        if len(df_code)==0:\n",
    "                            continue\n",
    "                        else:\n",
    "                            df_code.to_csv(f'{self.output_dir}/{row[\"code\"]}.csv', index=False)\n",
    "                        continue\n",
    "                    base_code = pd.read_csv(dstdir)\n",
    "                    update_code = bs.query_profit_data(row[\"code\"], year=i,quarter=n).get_data()\n",
    "                    df_code = pd.concat([base_code,update_code],axis=0,ignore_index = True)\n",
    "                    df_code.to_csv(dstdir, index=False)\n",
    "        self.exit()\n",
    "        \n",
    "if __name__ == '__main__':\n",
    "    year = [1990,1991,1992,1993,1994,1995,1996,1997,1998,1999,2000,2001,2002,2003,2004,2005,2006,2007,2008,2009,2010,2011,2012,2013,2014,2015,2016,2017,2018,2019,2020,2021]\n",
    "    quarter = [1,2,3,4]\n",
    "    down = Downloader('./', year = year,quarter=quarter)\n",
    "    down.updater(year=year,quarter=quarter)\n",
    "\n"
   ]
  },
  {
   "cell_type": "code",
   "execution_count": 78,
   "id": "metropolitan-outdoors",
   "metadata": {},
   "outputs": [
    {
     "name": "stdout",
     "output_type": "stream",
     "text": [
      "login success!\n"
     ]
    },
    {
     "data": {
      "text/html": [
       "<div>\n",
       "<style scoped>\n",
       "    .dataframe tbody tr th:only-of-type {\n",
       "        vertical-align: middle;\n",
       "    }\n",
       "\n",
       "    .dataframe tbody tr th {\n",
       "        vertical-align: top;\n",
       "    }\n",
       "\n",
       "    .dataframe thead th {\n",
       "        text-align: right;\n",
       "    }\n",
       "</style>\n",
       "<table border=\"1\" class=\"dataframe\">\n",
       "  <thead>\n",
       "    <tr style=\"text-align: right;\">\n",
       "      <th></th>\n",
       "    </tr>\n",
       "  </thead>\n",
       "  <tbody>\n",
       "  </tbody>\n",
       "</table>\n",
       "</div>"
      ],
      "text/plain": [
       "Empty DataFrame\n",
       "Columns: []\n",
       "Index: []"
      ]
     },
     "execution_count": 78,
     "metadata": {},
     "output_type": "execute_result"
    }
   ],
   "source": [
    "bs.login()\n",
    "bs.query_profit_data('sh.600025', year=2009, quarter=1).get_data()"
   ]
  },
  {
   "cell_type": "code",
   "execution_count": null,
   "id": "experimental-protest",
   "metadata": {},
   "outputs": [],
   "source": []
  }
 ],
 "metadata": {
  "kernelspec": {
   "display_name": "Python 3",
   "language": "python",
   "name": "python3"
  },
  "language_info": {
   "codemirror_mode": {
    "name": "ipython",
    "version": 3
   },
   "file_extension": ".py",
   "mimetype": "text/x-python",
   "name": "python",
   "nbconvert_exporter": "python",
   "pygments_lexer": "ipython3",
   "version": "3.8.8"
  }
 },
 "nbformat": 4,
 "nbformat_minor": 5
}
